{
 "cells": [
  {
   "cell_type": "markdown",
   "id": "d659df33-e67c-4f41-bfea-da61690d647c",
   "metadata": {},
   "source": [
    "# QUESTION # 7"
   ]
  },
  {
   "cell_type": "markdown",
   "id": "a757edcd-a895-41fe-9477-fc284205a6b3",
   "metadata": {},
   "source": [
    "> Imports"
   ]
  },
  {
   "cell_type": "code",
   "execution_count": 2,
   "id": "2ba2ad07-b63e-4d33-b485-d23117dc6d06",
   "metadata": {
    "tags": []
   },
   "outputs": [],
   "source": [
    "from random import randint \n",
    "import math "
   ]
  },
  {
   "cell_type": "markdown",
   "id": "22e0257e-644d-4aaa-aca2-61689065cb15",
   "metadata": {},
   "source": [
    "> Class NQueens"
   ]
  },
  {
   "cell_type": "code",
   "execution_count": 9,
   "id": "1bb70480-7b40-493a-871a-759f0ece51ba",
   "metadata": {
    "tags": []
   },
   "outputs": [],
   "source": [
    "class NQueens: \n",
    "    # Random state generator\n",
    "    def generate_state(self, n):\n",
    "        state = list()\n",
    "\n",
    "        for i in range(n): \n",
    "            state.append(randint(0, 1000) % n) \n",
    "\n",
    "        return state \n",
    "\n",
    "    # Calculates diagonal collisions\n",
    "    def dia_collisions(self, state): \n",
    "        collision = 0 \n",
    "\n",
    "        for i in range(len(state)): \n",
    "            for j in range(len(state)): \n",
    "                if i != j: \n",
    "                    dp = abs(i - j) \n",
    "                    if state[i] == state[j] + dp: \n",
    "                        collision += 1 \n",
    "                    if state[i] == state[j] - dp: \n",
    "                        collision += 1 \n",
    "\n",
    "        return collision // 2 \n",
    "\n",
    "  \n",
    "    # Caluclates row-wise collsions\n",
    "    def row_collisions(self, state): \n",
    "        collision = 0 \n",
    "\n",
    "        for i in range(len(state)): \n",
    "            for j in range(len(state)): \n",
    "                if j != i: \n",
    "                    if state[i] == state[j]: \n",
    "                        collision += 1 \n",
    "\n",
    "        return collision \n",
    "\n",
    "    # Returns total collisions\n",
    "    def evaluate(self, state): \n",
    "        return self.dia_ollisions(state) + self.row_collisions(state) \n",
    "\n",
    "    # Checks for the validity of the solution \n",
    "    def is_solution(self, state):\n",
    "        return self.evaluate(state) == 0 \n",
    "\n",
    "    # Performs hill search\n",
    "    def hill_search(self, start): \n",
    "        best = start \n",
    "        current = None \n",
    "        currentEval = self.evaluate(start) \n",
    "\n",
    "        while True:\n",
    "            current = best \n",
    "            candidates = self.generateState(len(current)) \n",
    "            for i in range(len(candidates)): \n",
    "                candidateEval = self.evaluate(candidates) \n",
    "                if candidateEval < currentEval: \n",
    "                    current = candidates \n",
    "                    currentEval = candidateEval\n",
    "            if best == current:\n",
    "                return best \n",
    "            best = current \n",
    "\n",
    "    # Calls hill search until the goal state (no quessn is in attacking position) is reached\n",
    "    def solve_nqueens(self, state): \n",
    "        state = self.hill_search(state) \n",
    "        \n",
    "        while not self.is_solution(state): \n",
    "            state = self.generate_state(len(state)) \n",
    "            state = self.hill_search(state) \n",
    "\n",
    "        return state \n",
    "\n",
    "    # Prints the board with n-queens placed on it\n",
    "    def print_board(self, state): \n",
    "        n = len(state) \n",
    "        \n",
    "        for i in range(n): \n",
    "            for j in range(n): \n",
    "                if state[j] == i: \n",
    "                    print(\"Q  \", end=\"\") \n",
    "                else: \n",
    "                    print(\".  \", end=\"\") \n",
    "            print() "
   ]
  },
  {
   "cell_type": "markdown",
   "id": "6ae416a9-f0fd-415a-8270-3843c5dc5fe0",
   "metadata": {},
   "source": [
    "> Driver code"
   ]
  },
  {
   "cell_type": "code",
   "execution_count": 11,
   "id": "afe99b54-93c8-4628-be3f-da420a194f71",
   "metadata": {
    "tags": []
   },
   "outputs": [
    {
     "name": "stdin",
     "output_type": "stream",
     "text": [
      "Enter number of queens (4 <= n <= 8):  6\n"
     ]
    },
    {
     "name": "stdout",
     "output_type": "stream",
     "text": [
      "Initial state: \n",
      ".  .  .  Q  Q  Q  \n",
      ".  Q  .  .  .  .  \n",
      ".  .  .  .  .  .  \n",
      ".  .  Q  .  .  .  \n",
      ".  .  .  .  .  .  \n",
      "Q  .  .  .  .  .  \n"
     ]
    },
    {
     "ename": "AttributeError",
     "evalue": "'NQueens' object has no attribute 'dia_ollisions'",
     "output_type": "error",
     "traceback": [
      "\u001b[1;31m---------------------------------------------------------------------------\u001b[0m",
      "\u001b[1;31mAttributeError\u001b[0m                            Traceback (most recent call last)",
      "Cell \u001b[1;32mIn[11], line 11\u001b[0m\n\u001b[0;32m      9\u001b[0m \u001b[38;5;28mprint\u001b[39m(\u001b[38;5;124m\"\u001b[39m\u001b[38;5;124mInitial state: \u001b[39m\u001b[38;5;124m\"\u001b[39m) \n\u001b[0;32m     10\u001b[0m nq\u001b[38;5;241m.\u001b[39mprint_board(initial_state) \n\u001b[1;32m---> 11\u001b[0m solution \u001b[38;5;241m=\u001b[39m nq\u001b[38;5;241m.\u001b[39msolve_nqueens(initial_state) \n\u001b[0;32m     12\u001b[0m \u001b[38;5;28mprint\u001b[39m(\u001b[38;5;124m\"\u001b[39m\u001b[38;5;130;01m\\n\u001b[39;00m\u001b[38;5;124mSolution: \u001b[39m\u001b[38;5;124m\"\u001b[39m) \n\u001b[0;32m     13\u001b[0m nq\u001b[38;5;241m.\u001b[39mprint_board(solution)\n",
      "Cell \u001b[1;32mIn[9], line 67\u001b[0m, in \u001b[0;36mNQueens.solve_nqueens\u001b[1;34m(self, state)\u001b[0m\n\u001b[0;32m     66\u001b[0m \u001b[38;5;28;01mdef\u001b[39;00m \u001b[38;5;21msolve_nqueens\u001b[39m(\u001b[38;5;28mself\u001b[39m, state): \n\u001b[1;32m---> 67\u001b[0m     state \u001b[38;5;241m=\u001b[39m \u001b[38;5;28mself\u001b[39m\u001b[38;5;241m.\u001b[39mhill_search(state) \n\u001b[0;32m     69\u001b[0m     \u001b[38;5;28;01mwhile\u001b[39;00m \u001b[38;5;129;01mnot\u001b[39;00m \u001b[38;5;28mself\u001b[39m\u001b[38;5;241m.\u001b[39mis_solution(state): \n\u001b[0;32m     70\u001b[0m         state \u001b[38;5;241m=\u001b[39m \u001b[38;5;28mself\u001b[39m\u001b[38;5;241m.\u001b[39mgenerate_state(\u001b[38;5;28mlen\u001b[39m(state)) \n",
      "Cell \u001b[1;32mIn[9], line 51\u001b[0m, in \u001b[0;36mNQueens.hill_search\u001b[1;34m(self, start)\u001b[0m\n\u001b[0;32m     49\u001b[0m best \u001b[38;5;241m=\u001b[39m start \n\u001b[0;32m     50\u001b[0m current \u001b[38;5;241m=\u001b[39m \u001b[38;5;28;01mNone\u001b[39;00m \n\u001b[1;32m---> 51\u001b[0m currentEval \u001b[38;5;241m=\u001b[39m \u001b[38;5;28mself\u001b[39m\u001b[38;5;241m.\u001b[39mevaluate(start) \n\u001b[0;32m     53\u001b[0m \u001b[38;5;28;01mwhile\u001b[39;00m \u001b[38;5;28;01mTrue\u001b[39;00m:\n\u001b[0;32m     54\u001b[0m     current \u001b[38;5;241m=\u001b[39m best \n",
      "Cell \u001b[1;32mIn[9], line 41\u001b[0m, in \u001b[0;36mNQueens.evaluate\u001b[1;34m(self, state)\u001b[0m\n\u001b[0;32m     40\u001b[0m \u001b[38;5;28;01mdef\u001b[39;00m \u001b[38;5;21mevaluate\u001b[39m(\u001b[38;5;28mself\u001b[39m, state): \n\u001b[1;32m---> 41\u001b[0m     \u001b[38;5;28;01mreturn\u001b[39;00m \u001b[38;5;28mself\u001b[39m\u001b[38;5;241m.\u001b[39mdia_ollisions(state) \u001b[38;5;241m+\u001b[39m \u001b[38;5;28mself\u001b[39m\u001b[38;5;241m.\u001b[39mrow_collisions(state)\n",
      "\u001b[1;31mAttributeError\u001b[0m: 'NQueens' object has no attribute 'dia_ollisions'"
     ]
    }
   ],
   "source": [
    "nq = NQueens()        \n",
    "\n",
    "while True: \n",
    "    n = int(input('Enter number of queens (4 <= n <= 8): ')) \n",
    "    if 4 <= n <= 8: \n",
    "        break \n",
    "\n",
    "initial_state = nq.generate_state(n) \n",
    "print(\"Initial state: \") \n",
    "nq.print_board(initial_state) \n",
    "solution = nq.solve_nqueens(initial_state) \n",
    "print(\"\\nSolution: \") \n",
    "nq.print_board(solution) "
   ]
  },
  {
   "cell_type": "code",
   "execution_count": null,
   "id": "67258bc9-5594-4782-85dd-e87311506432",
   "metadata": {},
   "outputs": [],
   "source": []
  }
 ],
 "metadata": {
  "kernelspec": {
   "display_name": "Python 3 (ipykernel)",
   "language": "python",
   "name": "python3"
  },
  "language_info": {
   "codemirror_mode": {
    "name": "ipython",
    "version": 3
   },
   "file_extension": ".py",
   "mimetype": "text/x-python",
   "name": "python",
   "nbconvert_exporter": "python",
   "pygments_lexer": "ipython3",
   "version": "3.11.4"
  }
 },
 "nbformat": 4,
 "nbformat_minor": 5
}
